{
 "cells": [
  {
   "cell_type": "code",
   "execution_count": 1,
   "metadata": {},
   "outputs": [
    {
     "name": "stderr",
     "output_type": "stream",
     "text": [
      "<>:6: SyntaxWarning: invalid escape sequence '\\['\n",
      "<>:6: SyntaxWarning: invalid escape sequence '\\['\n",
      "C:\\Users\\gadhr\\AppData\\Local\\Temp\\ipykernel_7788\\2630287345.py:6: SyntaxWarning: invalid escape sequence '\\['\n",
      "  return bool(re.match(\"^.+@(\\[?)[a-zA-Z0-9-.]+.([a-zA-Z]{2,3}|[0-9]{1,3})(]?)$\", email))\n"
     ]
    }
   ],
   "source": [
    "\n",
    "import re\n",
    "\n",
    "\n",
    "def validate_email(email):\n",
    "    if len(email) > 7:\n",
    "        return bool(re.match(\"^.+@(\\[?)[a-zA-Z0-9-.]+.([a-zA-Z]{2,3}|[0-9]{1,3})(]?)$\", email))"
   ]
  },
  {
   "cell_type": "code",
   "execution_count": 2,
   "metadata": {},
   "outputs": [
    {
     "name": "stdout",
     "output_type": "stream",
     "text": [
      "<class 'float'> 2.0\n"
     ]
    }
   ],
   "source": [
    "x, y, name, is_cool = (1, 2.5, 'John', True)\n",
    "\n",
    "\n",
    "a = x + y\n",
    "\n",
    "\n",
    "x = str(x)\n",
    "y = int(y)\n",
    "z = float(y)\n",
    "\n",
    "print(type(z), z)"
   ]
  },
  {
   "cell_type": "code",
   "execution_count": 3,
   "metadata": {},
   "outputs": [
    {
     "name": "stdout",
     "output_type": "stream",
     "text": [
      "Name:  myfile.txt\n",
      "Is Closed :  False\n",
      "Opening Mode:  w\n",
      "I love Python and JavaScript I also like PHP\n"
     ]
    }
   ],
   "source": [
    "myFile = open('myfile.txt', 'w')\n",
    "\n",
    "print('Name: ', myFile.name)\n",
    "print('Is Closed : ', myFile.closed)\n",
    "print('Opening Mode: ', myFile.mode)\n",
    "\n",
    "myFile.write('I love Python')\n",
    "myFile.write(' and JavaScript')\n",
    "myFile.close()\n",
    "\n",
    "myFile = open('myfile.txt', 'a')\n",
    "myFile.write(' I also like PHP')\n",
    "myFile.close()\n",
    "\n",
    "myFile = open('myfile.txt', 'r+')\n",
    "text = myFile.read(100)\n",
    "print(text)"
   ]
  },
  {
   "cell_type": "code",
   "execution_count": 4,
   "metadata": {},
   "outputs": [
    {
     "name": "stdout",
     "output_type": "stream",
     "text": [
      "[4, 6, 8, 10, 12]\n",
      "[2, 4, 6]\n",
      "20\n"
     ]
    }
   ],
   "source": [
    "def add(x, y):\n",
    "   return x+y\n",
    "\n",
    "from functools import reduce  # importing reduce module for using reduce function\n",
    "\n",
    "l1 = [2, 3, 4, 5, 6]\n",
    "mapping_the_l1 = list(map(lambda x: x*2, l1))\n",
    "print(mapping_the_l1)\n",
    "filtering_the_l1 = list(filter(lambda x: x % 2 == 0, l1))\n",
    "print(filtering_the_l1)\n",
    "reducing_the_l1 = reduce(add, l1)\n",
    "print(reducing_the_l1)"
   ]
  },
  {
   "cell_type": "code",
   "execution_count": 5,
   "metadata": {},
   "outputs": [
    {
     "name": "stdout",
     "output_type": "stream",
     "text": [
      "21 is greater than 20\n",
      "21 is greater than 20\n",
      "21 is greater than 20\n",
      "21 is greater than 2 or less than or equal to 10\n",
      "21 is not equal to 20\n",
      "True\n",
      "True\n"
     ]
    }
   ],
   "source": [
    "x = 21\n",
    "y = 20\n",
    "\n",
    "if x > y:\n",
    "    print(f'{x} is greater than {y}')\n",
    "\n",
    "if x > y:\n",
    "    print(f'{x} is greater than {y}')\n",
    "else:\n",
    "    print(f'{y} is greater than {x}')\n",
    "\n",
    "if x > y:\n",
    "    print(f'{x} is greater than {y}')\n",
    "elif x == y:\n",
    "    print(f'{x} is equal to {y}')\n",
    "else:\n",
    "    print(f'{y} is greater than {x}')\n",
    "\n",
    "if x > 2:\n",
    "    if x <= 10:\n",
    "        print(f'{x} is greater than 2 and less than or equal to 10')\n",
    "\n",
    "\n",
    "if x > 2 and x <= 10:\n",
    "    print(f'{x} is greater than 2 and less than or equal to 10')\n",
    "\n",
    "\n",
    "if x > 2 or x <= 10:\n",
    "    print(f'{x} is greater than 2 or less than or equal to 10')\n",
    "\n",
    "\n",
    "if not (x == y):\n",
    "    print(f'{x} is not equal to {y}')\n",
    "\n",
    "numbers = [1, 2, 3, 4, 5]\n",
    "\n",
    "if x in numbers:\n",
    "    print(x in numbers)\n",
    "\n",
    "\n",
    "if x not in numbers:\n",
    "    print(x not in numbers)\n",
    "\n",
    "\n",
    "if x is y:\n",
    "    print(x is y)\n",
    "\n",
    "\n",
    "if x is not y:\n",
    "    print(x is not y)"
   ]
  },
  {
   "cell_type": "code",
   "execution_count": 6,
   "metadata": {},
   "outputs": [
    {
     "name": "stdout",
     "output_type": "stream",
     "text": [
      "Oranges\n",
      "Pears\n",
      "4\n",
      "['Pears', 'Oranges', 'Mangos', 'Blueberries']\n"
     ]
    }
   ],
   "source": [
    "numbers = [1, 2, 3, 4, 5]\n",
    "fruits = ['Apples', 'Oranges', 'Grapes', 'Pears']\n",
    "\n",
    "print(fruits[1])\n",
    "\n",
    "print(fruits[-1])\n",
    "\n",
    "print(len(fruits))\n",
    "\n",
    "fruits.append('Mangos')\n",
    "\n",
    "fruits.remove('Grapes')\n",
    "\n",
    "fruits.insert(2, 'Strawberries')\n",
    "\n",
    "fruits[0] = 'Blueberries'\n",
    "\n",
    "fruits.pop(2)\n",
    "\n",
    "fruits.reverse()\n",
    "\n",
    "fruits.sort()\n",
    "\n",
    "fruits.sort(reverse=True)\n",
    "\n",
    "print(fruits)"
   ]
  },
  {
   "cell_type": "code",
   "execution_count": 7,
   "metadata": {},
   "outputs": [
    {
     "name": "stdout",
     "output_type": "stream",
     "text": [
      "John\n",
      "Doe\n",
      "dict_keys(['first_name', 'last_name', 'age', 'phone'])\n",
      "dict_items([('first_name', 'John'), ('last_name', 'Doe'), ('age', 30), ('phone', '555-555-5555')])\n",
      "5\n",
      "Kevin\n"
     ]
    }
   ],
   "source": [
    "person = {\n",
    "    'first_name': 'John',\n",
    "    'last_name': 'Doe',\n",
    "    'age': 30\n",
    "}\n",
    "\n",
    "print(person['first_name'])\n",
    "print(person.get('last_name'))\n",
    "\n",
    "person['phone'] = '555-555-5555'\n",
    "\n",
    "print(person.keys())\n",
    "\n",
    "print(person.items())\n",
    "\n",
    "person2 = person.copy()\n",
    "person2['city'] = 'Boston'\n",
    "\n",
    "del (person['age'])\n",
    "person.pop('phone')\n",
    "\n",
    "person.clear()\n",
    "\n",
    "\n",
    "print(len(person2))\n",
    "\n",
    "\n",
    "people = [\n",
    "    {'name': 'Martha', 'age': 30},\n",
    "    {'name': 'Kevin', 'age': 25}\n",
    "]\n",
    "\n",
    "print(people[1]['name'])"
   ]
  },
  {
   "cell_type": "code",
   "execution_count": 8,
   "metadata": {},
   "outputs": [
    {
     "name": "stdout",
     "output_type": "stream",
     "text": [
      "Current Person: John\n",
      "Current Person: Paul\n",
      "Current Person: Sara\n",
      "Current Person: Susan\n",
      "Current Person: John\n",
      "Current Person: Paul\n",
      "Current Person: John\n",
      "Current Person: Paul\n",
      "Current Person: Susan\n",
      "John\n",
      "Paul\n",
      "Sara\n",
      "Susan\n",
      "Number: 0\n",
      "Number: 1\n",
      "Number: 2\n",
      "Number: 3\n",
      "Number: 4\n",
      "Number: 5\n",
      "Number: 6\n",
      "Number: 7\n",
      "Number: 8\n",
      "Number: 9\n",
      "Number: 10\n",
      "Count: 0\n",
      "Count: 1\n",
      "Count: 2\n",
      "Count: 3\n",
      "Count: 4\n",
      "Count: 5\n",
      "Count: 6\n",
      "Count: 7\n",
      "Count: 8\n",
      "Count: 9\n"
     ]
    }
   ],
   "source": [
    "\n",
    "people = ['John', 'Paul', 'Sara', 'Susan']\n",
    "\n",
    "for person in people:\n",
    "    print(f'Current Person: {person}')\n",
    "\n",
    "for person in people:\n",
    "    if person == 'Sara':\n",
    "        break\n",
    "    print(f'Current Person: {person}')\n",
    "\n",
    "for person in people:\n",
    "    if person == 'Sara':\n",
    "        continue\n",
    "    print(f'Current Person: {person}')\n",
    "\n",
    "for i in range(len(people)):\n",
    "    print(people[i])\n",
    "\n",
    "for i in range(0, 11):\n",
    "    print(f'Number: {i}')\n",
    "\n",
    "count = 0\n",
    "while count < 10:\n",
    "    print(f'Count: {count}')\n",
    "    count += 1\n"
   ]
  },
  {
   "cell_type": "code",
   "execution_count": 9,
   "metadata": {},
   "outputs": [
    {
     "name": "stdout",
     "output_type": "stream",
     "text": [
      "My name is John Doe and I am 30\n",
      "My name is John Doe and I am 31\n",
      "1000\n",
      "My name is Jane Doe and I am 25\n",
      "My name is Jane Doe and I am 26\n",
      "1000\n"
     ]
    }
   ],
   "source": [
    "\n",
    "class User:\n",
    "    def __init__(self, name, email, age):\n",
    "        self.name = name\n",
    "        self.email = email\n",
    "        self.age = age\n",
    "        self._private = 1000\n",
    "\n",
    "    def greeting(self):\n",
    "        return f'My name is {self.name} and I am {self.age}'\n",
    "\n",
    "    def has_birthday(self):\n",
    "        self.age += 1\n",
    "\n",
    "    def print_encap(self):\n",
    "        print(self._private)\n",
    "\n",
    "\n",
    "class Customer(User):\n",
    "    def __init__(self, name, email, age):\n",
    "        User.__init__(self, name, email, age)\n",
    "        self.name = name\n",
    "        self.email = email\n",
    "        self.age = age\n",
    "\n",
    "user1 = User('John Doe', 'john.doe@example.com', 30)\n",
    "print(user1.greeting())\n",
    "user1.has_birthday()\n",
    "print(user1.greeting())\n",
    "user1.print_encap()\n",
    "\n",
    "customer1 = Customer('Jane Doe', 'jane.doe@example.com', 25)\n",
    "print(customer1.greeting())\n",
    "customer1.has_birthday()\n",
    "print(customer1.greeting())\n",
    "customer1.print_encap()\n"
   ]
  }
 ],
 "metadata": {
  "kernelspec": {
   "display_name": "Python 3",
   "language": "python",
   "name": "python3"
  },
  "language_info": {
   "codemirror_mode": {
    "name": "ipython",
    "version": 3
   },
   "file_extension": ".py",
   "mimetype": "text/x-python",
   "name": "python",
   "nbconvert_exporter": "python",
   "pygments_lexer": "ipython3",
   "version": "3.12.4"
  }
 },
 "nbformat": 4,
 "nbformat_minor": 2
}
